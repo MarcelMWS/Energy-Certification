{
 "cells": [
  {
   "cell_type": "code",
   "execution_count": null,
   "metadata": {},
   "outputs": [],
   "source": [
    "# coding: utf-8\n",
    "\n",
    "import json\n",
    "import web3\n",
    "import math\n",
    "import random\n",
    "import time\n",
    "\n",
    "from web3 import Web3, IPCProvider, HTTPProvider"
   ]
  },
  {
   "cell_type": "markdown",
   "metadata": {},
   "source": [
    "Next step: Connect to Client, create 20 Accounts, define a coinbase (=default account)"
   ]
  },
  {
   "cell_type": "code",
   "execution_count": null,
   "metadata": {},
   "outputs": [],
   "source": [
    "web3 = Web3(HTTPProvider(\"http://127.0.0.1:8545\", request_kwargs={'timeout': 600}))"
   ]
  },
  {
   "cell_type": "code",
   "execution_count": null,
   "metadata": {},
   "outputs": [],
   "source": [
    "### execute Only on a fresh Blockchain! Change the Passwords!\n",
    "for i in range(1,30):\n",
    "    web3.personal.newAccount('olirocks2018')"
   ]
  },
  {
   "cell_type": "code",
   "execution_count": null,
   "metadata": {},
   "outputs": [],
   "source": [
    "coinbase = web3.eth.coinbase\n",
    "web3.eth.defaultBlock = \"latest\"\n",
    "transaction = {'from': coinbase}"
   ]
  },
  {
   "cell_type": "markdown",
   "metadata": {},
   "source": [
    "Replace The Contract Adresses below to the actual addresses of the contracts on your particular chain! In order to get the contract addresses deploy either with TRUFFLE or REMIX!"
   ]
  },
  {
   "cell_type": "code",
   "execution_count": null,
   "metadata": {},
   "outputs": [],
   "source": [
    "# defining energy production contract\n",
    "Production_address = '0xcec6cb8d91f9c592faf10ad15c815aceb2aa9ee9'\n",
    "Production_abi_str  = '[{\"anonymous\":false,\"inputs\":[{\"indexed\":false,\"name\":\"oliAddr\",\"type\":\"address\"},{\"indexed\":false,\"name\":\"txTime\",\"type\":\"uint256[]\"},{\"indexed\":false,\"name\":\"txValue\",\"type\":\"uint32[]\"},{\"indexed\":false,\"name\":\"blockNumber\",\"type\":\"uint256[]\"},{\"indexed\":false,\"name\":\"blockHash\",\"type\":\"bytes32[]\"},{\"indexed\":false,\"name\":\"txGasPrice\",\"type\":\"uint256[]\"}],\"name\":\"ProTransactionEvent\",\"type\":\"event\"},{\"anonymous\":false,\"inputs\":[{\"indexed\":false,\"name\":\"oliAddr\",\"type\":\"address\"},{\"indexed\":false,\"name\":\"eTime\",\"type\":\"uint256\"},{\"indexed\":false,\"name\":\"enerAmount\",\"type\":\"uint32\"}],\"name\":\"EnerProductionEvent\",\"type\":\"event\"},{\"anonymous\":false,\"inputs\":[{\"indexed\":false,\"name\":\"pvAddr\",\"type\":\"address\"},{\"indexed\":false,\"name\":\"owner\",\"type\":\"string\"},{\"indexed\":false,\"name\":\"deviceType\",\"type\":\"string\"},{\"indexed\":false,\"name\":\"peakPowerPos\",\"type\":\"uint32\"},{\"indexed\":false,\"name\":\"peakPowerNeg\",\"type\":\"uint32\"},{\"indexed\":false,\"name\":\"latitude\",\"type\":\"uint32\"},{\"indexed\":false,\"name\":\"longitude\",\"type\":\"uint32\"},{\"indexed\":false,\"name\":\"voltageLevel\",\"type\":\"uint32\"},{\"indexed\":false,\"name\":\"location\",\"type\":\"string\"},{\"indexed\":false,\"name\":\"installDate\",\"type\":\"string\"}],\"name\":\"ProducerRegs\",\"type\":\"event\"},{\"constant\":false,\"inputs\":[{\"name\":\"_enerValue\",\"type\":\"uint32\"}],\"name\":\"setEnerProduction\",\"outputs\":[],\"payable\":false,\"stateMutability\":\"nonpayable\",\"type\":\"function\"},{\"constant\":false,\"inputs\":[{\"name\":\"_owner\",\"type\":\"string\"},{\"name\":\"_deviceType\",\"type\":\"string\"},{\"name\":\"_peakPowerPos\",\"type\":\"uint32\"},{\"name\":\"_peakPowerNeg\",\"type\":\"uint32\"},{\"name\":\"_latitude\",\"type\":\"uint32\"},{\"name\":\"_longitude\",\"type\":\"uint32\"},{\"name\":\"_voltageLevel\",\"type\":\"uint32\"},{\"name\":\"_location\",\"type\":\"string\"},{\"name\":\"_installDate\",\"type\":\"string\"}],\"name\":\"setProducer\",\"outputs\":[],\"payable\":false,\"stateMutability\":\"nonpayable\",\"type\":\"function\"},{\"inputs\":[],\"payable\":false,\"stateMutability\":\"nonpayable\",\"type\":\"constructor\"},{\"constant\":true,\"inputs\":[],\"name\":\"countProducers\",\"outputs\":[{\"name\":\"\",\"type\":\"uint256\"}],\"payable\":false,\"stateMutability\":\"view\",\"type\":\"function\"},{\"constant\":true,\"inputs\":[],\"name\":\"getEnerProduction\",\"outputs\":[{\"name\":\"\",\"type\":\"address\"},{\"name\":\"\",\"type\":\"uint256\"},{\"name\":\"\",\"type\":\"uint32\"}],\"payable\":false,\"stateMutability\":\"view\",\"type\":\"function\"},{\"constant\":true,\"inputs\":[{\"name\":\"_proAccntAddr\",\"type\":\"address\"}],\"name\":\"getProAccntDetails\",\"outputs\":[{\"name\":\"\",\"type\":\"string\"},{\"name\":\"\",\"type\":\"string\"},{\"name\":\"\",\"type\":\"uint32\"},{\"name\":\"\",\"type\":\"string\"},{\"name\":\"\",\"type\":\"uint32\"},{\"name\":\"\",\"type\":\"uint32\"},{\"name\":\"\",\"type\":\"string\"}],\"payable\":false,\"stateMutability\":\"view\",\"type\":\"function\"},{\"constant\":true,\"inputs\":[],\"name\":\"getProAccntsList\",\"outputs\":[{\"name\":\"\",\"type\":\"address[]\"}],\"payable\":false,\"stateMutability\":\"view\",\"type\":\"function\"},{\"constant\":true,\"inputs\":[{\"name\":\"_proAccntAddr\",\"type\":\"address\"}],\"name\":\"getProBalance\",\"outputs\":[{\"name\":\"\",\"type\":\"uint256\"}],\"payable\":false,\"stateMutability\":\"view\",\"type\":\"function\"},{\"constant\":true,\"inputs\":[],\"name\":\"getProducer\",\"outputs\":[{\"name\":\"\",\"type\":\"address\"},{\"name\":\"\",\"type\":\"string\"},{\"name\":\"\",\"type\":\"string\"},{\"name\":\"\",\"type\":\"uint32\"},{\"name\":\"\",\"type\":\"uint32\"},{\"name\":\"\",\"type\":\"uint32\"},{\"name\":\"\",\"type\":\"uint32\"},{\"name\":\"\",\"type\":\"uint32\"},{\"name\":\"\",\"type\":\"string\"},{\"name\":\"\",\"type\":\"string\"}],\"payable\":false,\"stateMutability\":\"view\",\"type\":\"function\"},{\"constant\":true,\"inputs\":[{\"name\":\"_proAccntAddr\",\"type\":\"address\"}],\"name\":\"getProEnerProduction\",\"outputs\":[{\"name\":\"\",\"type\":\"address\"},{\"name\":\"\",\"type\":\"uint256[]\"},{\"name\":\"\",\"type\":\"uint32[]\"},{\"name\":\"\",\"type\":\"uint256[]\"},{\"name\":\"\",\"type\":\"bytes32[]\"},{\"name\":\"\",\"type\":\"uint256[]\"}],\"payable\":false,\"stateMutability\":\"view\",\"type\":\"function\"},{\"constant\":true,\"inputs\":[{\"name\":\"\",\"type\":\"uint256\"}],\"name\":\"proAccntList\",\"outputs\":[{\"name\":\"\",\"type\":\"address\"}],\"payable\":false,\"stateMutability\":\"view\",\"type\":\"function\"},{\"constant\":true,\"inputs\":[{\"name\":\"producerAddr\",\"type\":\"address\"}],\"name\":\"proAccntsArr\",\"outputs\":[{\"name\":\"\",\"type\":\"bool\"}],\"payable\":false,\"stateMutability\":\"view\",\"type\":\"function\"}]'\n",
    "Production_abi      = json.loads(Production_abi_str)\n",
    "Production_contract = web3.eth.contract(abi=Production_abi,address=Production_address)"
   ]
  },
  {
   "cell_type": "code",
   "execution_count": null,
   "metadata": {},
   "outputs": [],
   "source": [
    "# defining energy consumption contract\n",
    "Consumption_address = '0x1d6b3d8ca86c26e943666a2bd4458421d8441e4a'\n",
    "Consumption_abi_str  = '[{\"anonymous\":false,\"inputs\":[{\"indexed\":false,\"name\":\"oliAddr\",\"type\":\"address\"},{\"indexed\":false,\"name\":\"txTime\",\"type\":\"uint256[]\"},{\"indexed\":false,\"name\":\"txValue\",\"type\":\"uint32[]\"},{\"indexed\":false,\"name\":\"blockNumber\",\"type\":\"uint256[]\"},{\"indexed\":false,\"name\":\"blockHash\",\"type\":\"bytes32[]\"},{\"indexed\":false,\"name\":\"txGasPrice\",\"type\":\"uint256[]\"}],\"name\":\"ConsTransactionEvent\",\"type\":\"event\"},{\"constant\":false,\"inputs\":[{\"name\":\"_owner\",\"type\":\"string\"},{\"name\":\"_deviceType\",\"type\":\"string\"},{\"name\":\"_peakPowerPos\",\"type\":\"uint32\"},{\"name\":\"_peakPowerNeg\",\"type\":\"uint32\"},{\"name\":\"_latitude\",\"type\":\"uint32\"},{\"name\":\"_longitude\",\"type\":\"uint32\"},{\"name\":\"_voltageLevel\",\"type\":\"uint32\"},{\"name\":\"_location\",\"type\":\"string\"},{\"name\":\"_installDate\",\"type\":\"string\"}],\"name\":\"setConsumer\",\"outputs\":[],\"payable\":false,\"stateMutability\":\"nonpayable\",\"type\":\"function\"},{\"anonymous\":false,\"inputs\":[{\"indexed\":false,\"name\":\"oliAddr\",\"type\":\"address\"},{\"indexed\":false,\"name\":\"eTime\",\"type\":\"uint256\"},{\"indexed\":false,\"name\":\"enerAmount\",\"type\":\"uint32\"}],\"name\":\"EnerConsumptionEvent\",\"type\":\"event\"},{\"anonymous\":false,\"inputs\":[{\"indexed\":false,\"name\":\"pvAddr\",\"type\":\"address\"},{\"indexed\":false,\"name\":\"owner\",\"type\":\"string\"},{\"indexed\":false,\"name\":\"deviceType\",\"type\":\"string\"},{\"indexed\":false,\"name\":\"peakPowerPos\",\"type\":\"uint32\"},{\"indexed\":false,\"name\":\"peakPowerNeg\",\"type\":\"uint32\"},{\"indexed\":false,\"name\":\"latitude\",\"type\":\"uint32\"},{\"indexed\":false,\"name\":\"longitude\",\"type\":\"uint32\"},{\"indexed\":false,\"name\":\"voltageLevel\",\"type\":\"uint32\"},{\"indexed\":false,\"name\":\"location\",\"type\":\"string\"},{\"indexed\":false,\"name\":\"installDate\",\"type\":\"string\"}],\"name\":\"ConsumerRegs\",\"type\":\"event\"},{\"constant\":false,\"inputs\":[{\"name\":\"_enerValue\",\"type\":\"uint32\"}],\"name\":\"setEnerConsumption\",\"outputs\":[],\"payable\":false,\"stateMutability\":\"nonpayable\",\"type\":\"function\"},{\"inputs\":[],\"payable\":false,\"stateMutability\":\"nonpayable\",\"type\":\"constructor\"},{\"constant\":true,\"inputs\":[{\"name\":\"\",\"type\":\"uint256\"}],\"name\":\"consAccntList\",\"outputs\":[{\"name\":\"\",\"type\":\"address\"}],\"payable\":false,\"stateMutability\":\"view\",\"type\":\"function\"},{\"constant\":true,\"inputs\":[{\"name\":\"consumerAddr\",\"type\":\"address\"}],\"name\":\"consAccntsArr\",\"outputs\":[{\"name\":\"\",\"type\":\"bool\"}],\"payable\":false,\"stateMutability\":\"view\",\"type\":\"function\"},{\"constant\":true,\"inputs\":[],\"name\":\"countConsumers\",\"outputs\":[{\"name\":\"\",\"type\":\"uint256\"}],\"payable\":false,\"stateMutability\":\"view\",\"type\":\"function\"},{\"constant\":true,\"inputs\":[{\"name\":\"_consAccntAddr\",\"type\":\"address\"}],\"name\":\"getConsAccntDetails\",\"outputs\":[{\"name\":\"\",\"type\":\"string\"},{\"name\":\"\",\"type\":\"string\"},{\"name\":\"\",\"type\":\"uint32\"},{\"name\":\"\",\"type\":\"string\"},{\"name\":\"\",\"type\":\"uint32\"},{\"name\":\"\",\"type\":\"uint32\"},{\"name\":\"\",\"type\":\"string\"}],\"payable\":false,\"stateMutability\":\"view\",\"type\":\"function\"},{\"constant\":true,\"inputs\":[],\"name\":\"getConsAccntsList\",\"outputs\":[{\"name\":\"\",\"type\":\"address[]\"}],\"payable\":false,\"stateMutability\":\"view\",\"type\":\"function\"},{\"constant\":true,\"inputs\":[{\"name\":\"_consAccntAddr\",\"type\":\"address\"}],\"name\":\"getConsBalance\",\"outputs\":[{\"name\":\"\",\"type\":\"uint256\"}],\"payable\":false,\"stateMutability\":\"view\",\"type\":\"function\"},{\"constant\":true,\"inputs\":[{\"name\":\"_consAccntAddr\",\"type\":\"address\"}],\"name\":\"getConsEnerConsumption\",\"outputs\":[{\"name\":\"\",\"type\":\"address\"},{\"name\":\"\",\"type\":\"uint256[]\"},{\"name\":\"\",\"type\":\"uint32[]\"},{\"name\":\"\",\"type\":\"uint256[]\"},{\"name\":\"\",\"type\":\"bytes32[]\"},{\"name\":\"\",\"type\":\"uint256[]\"}],\"payable\":false,\"stateMutability\":\"view\",\"type\":\"function\"},{\"constant\":true,\"inputs\":[],\"name\":\"getConsumer\",\"outputs\":[{\"name\":\"\",\"type\":\"address\"},{\"name\":\"\",\"type\":\"string\"},{\"name\":\"\",\"type\":\"string\"},{\"name\":\"\",\"type\":\"uint32\"},{\"name\":\"\",\"type\":\"uint32\"},{\"name\":\"\",\"type\":\"uint32\"},{\"name\":\"\",\"type\":\"uint32\"},{\"name\":\"\",\"type\":\"uint32\"},{\"name\":\"\",\"type\":\"string\"},{\"name\":\"\",\"type\":\"string\"}],\"payable\":false,\"stateMutability\":\"view\",\"type\":\"function\"},{\"constant\":true,\"inputs\":[],\"name\":\"getEnerConsumption\",\"outputs\":[{\"name\":\"\",\"type\":\"address\"},{\"name\":\"\",\"type\":\"uint256\"},{\"name\":\"\",\"type\":\"uint32\"}],\"payable\":false,\"stateMutability\":\"view\",\"type\":\"function\"}]'\n",
    "Consumption_abi      = json.loads(Consumption_abi_str)\n",
    "Consumption_contract = web3.eth.contract(abi=Consumption_abi,address=Consumption_address)"
   ]
  },
  {
   "cell_type": "code",
   "execution_count": null,
   "metadata": {},
   "outputs": [],
   "source": [
    "account_0=web3.eth.accounts[0]\n",
    "account_1=web3.eth.accounts[1]\n",
    "account_2=web3.eth.accounts[2]\n",
    "account_3=web3.eth.accounts[3]\n",
    "account_4=web3.eth.accounts[4]\n",
    "account_5=web3.eth.accounts[5]\n",
    "account_6=web3.eth.accounts[6]\n",
    "account_7=web3.eth.accounts[7]\n",
    "account_8=web3.eth.accounts[8]\n",
    "account_9=web3.eth.accounts[9]\n",
    "account_10=web3.eth.accounts[10]\n",
    "account_11=web3.eth.accounts[11]\n",
    "account_12=web3.eth.accounts[12]\n",
    "account_13=web3.eth.accounts[13]\n",
    "account_14=web3.eth.accounts[14]\n",
    "account_15=web3.eth.accounts[15]\n",
    "account_16=web3.eth.accounts[16]\n",
    "account_17=web3.eth.accounts[17]\n",
    "account_18=web3.eth.accounts[18]\n",
    "account_19=web3.eth.accounts[19]\n",
    "account_20=web3.eth.accounts[20]\n",
    "account_21=web3.eth.accounts[21]\n",
    "account_22=web3.eth.accounts[22]"
   ]
  },
  {
   "cell_type": "code",
   "execution_count": null,
   "metadata": {
    "scrolled": true
   },
   "outputs": [],
   "source": [
    "#producer registation\n",
    "\n",
    "web3.personal.unlockAccount(coinbase, 'olirocks2018')\n",
    "web3.personal.unlockAccount(account_1, 'olirocks2018')\n",
    "web3.personal.unlockAccount(account_2, 'olirocks2018')\n",
    "web3.personal.unlockAccount(account_3, 'olirocks2018')\n",
    "web3.personal.unlockAccount(account_4, 'olirocks2018')\n",
    "web3.personal.unlockAccount(account_5, 'olirocks2018')\n",
    "web3.personal.unlockAccount(account_6, 'olirocks2018')\n",
    "web3.personal.unlockAccount(account_7, 'olirocks2018')\n",
    "web3.personal.unlockAccount(account_8, 'olirocks2018')\n",
    "web3.personal.unlockAccount(account_9, 'olirocks2018')\n",
    "web3.personal.unlockAccount(account_10, 'olirocks2018')\n",
    "web3.personal.unlockAccount(account_11, 'olirocks2018')\n",
    "web3.personal.unlockAccount(account_12, 'olirocks2018')\n",
    "web3.personal.unlockAccount(account_13, 'olirocks2018')\n",
    "web3.personal.unlockAccount(account_14, 'olirocks2018')\n",
    "web3.personal.unlockAccount(account_15, 'olirocks2018')\n",
    "web3.personal.unlockAccount(account_16, 'olirocks2018')\n",
    "web3.personal.unlockAccount(account_17, 'olirocks2018')\n",
    "web3.personal.unlockAccount(account_18, 'olirocks2018')\n",
    "web3.personal.unlockAccount(account_19, 'olirocks2018')\n",
    "\n",
    "\n",
    "Production_contract.transact({'from': coinbase}).setProducer('Tom', 'PV', 345, 4556, int(48.11e4), int(9.15e4), 357, 'Urban', '20-04-2018')\n",
    "Production_contract.transact({'from': account_1}).setProducer('Jim', 'Battery', 645, 456, int(48.22e4), int(9.25e4), 357, 'Rural', '21-04-2018')\n",
    "Production_contract.transact({'from': account_2}).setProducer('Markus', 'Standard Meter', 978, 3754, int(48.33e4), int(9.35e4), 357, 'Urban', '22-04-2018')\n",
    "Production_contract.transact({'from': account_3}).setProducer('olirocks2018', 'Controller Load', 345, 3443, int(48.44e4), int(9.45e4), 357, 'Rural', '23-04-2018')\n",
    "Production_contract.transact({'from': account_4}).setProducer('Andre', 'Battery', 345, 4556, int(48.55e4), int(9.55e4), 357, 'Urban', '24-04-2018')\n",
    "\n",
    "Production_contract.transact({'from': account_5}).setProducer('Andre', 'Standard Meter', 345, 3937, int(48.66e4), int(9.65e4), 357, 'Rural', '25-04-2018')\n",
    "Production_contract.transact({'from': account_6}).setProducer('olirocks2018', 'PV', 345, 3748, int(48.77e4), int(9.35e4), 357, 'Urban', '26-04-2018')\n",
    "Production_contract.transact({'from': account_7}).setProducer('Markus', 'Controller Load', 345, 3783, int(48.88e4), int(9.75e4), 357, 'Rural', '27-04-2018')\n",
    "Production_contract.transact({'from': account_8}).setProducer('Jim', 'Standard Meter', 345, 4556, int(48.99e4), int(9.85e4), 357, 'Urban', '28-04-2018')\n",
    "Production_contract.transact({'from': account_9}).setProducer('Tom', 'Battery', 345, 3862, int(48.50e4), int(9.95e4), 357, 'Rural', '29-04-2018')\n",
    "\n",
    "Production_contract.transact({'from': account_10}).setProducer('Markus', 'Controller Load', 345, 4556, int(48.61e4), int(9.31e4), 357, 'Urban', '19-04-2018')\n",
    "Production_contract.transact({'from': account_11}).setProducer('olirocks2018', 'PV', 345, 7433, int(48.70e4), int(9.32e4), 357, 'Rural', '18-04-2018')\n",
    "Production_contract.transact({'from': account_12}).setProducer('Andre', 'Standard Meter', 345, 6413, int(48.82e4), int(9.33e4), 357, 'Urabn', '17-04-2018')\n",
    "Production_contract.transact({'from': account_13}).setProducer('Tom', 'Battery', 345, 1661, int(48.93e4), int(9.34e4), 357, 'Rural', '16-04-2018')\n",
    "Production_contract.transact({'from': account_14}).setProducer('Jim', 'PV', 345, 3732, int(48.44e4), int(9.35e4), 357, 'Urabn', '15-04-2018')\n",
    "\n",
    "Production_contract.transact({'from': account_15}).setProducer('Andre', 'Battery', 345, 5152, int(48.55e4), int(9.36e4), 357, 'Rural', '14-04-2018')\n",
    "Production_contract.transact({'from': account_16}).setProducer('Markus', 'Controller Load', 345, 2634, int(48.76e4), int(9.37e4), 357, 'Urabn', '13-04-2018')\n",
    "Production_contract.transact({'from': account_17}).setProducer('Tom', 'Standard Meter', 345, 1232, int(48.27e4), int(9.38e4), 357, 'Rural', '12-04-2018')\n",
    "Production_contract.transact({'from': account_18}).setProducer('Jim', 'PV', 345, 9982, int(48.48e4), int(9.89e4), 357, 'Urabn', '11-04-2018')\n",
    "Production_contract.transact({'from': account_19}).setProducer('olirocks2018', 'Battery', 345, 4516, int(48.49e4), int(9.35e4), 357, 'Rural', '10-04-2018')\n"
   ]
  },
  {
   "cell_type": "code",
   "execution_count": null,
   "metadata": {},
   "outputs": [],
   "source": [
    "#consumer registration\n",
    "\n",
    "web3.personal.unlockAccount(coinbase, 'olirocks2018')\n",
    "web3.personal.unlockAccount(account_1, 'olirocks2018')\n",
    "web3.personal.unlockAccount(account_2, 'olirocks2018')\n",
    "web3.personal.unlockAccount(account_3, 'olirocks2018')\n",
    "web3.personal.unlockAccount(account_4, 'olirocks2018')\n",
    "web3.personal.unlockAccount(account_5, 'olirocks2018')\n",
    "web3.personal.unlockAccount(account_6, 'olirocks2018')\n",
    "web3.personal.unlockAccount(account_7, 'olirocks2018')\n",
    "web3.personal.unlockAccount(account_8, 'olirocks2018')\n",
    "web3.personal.unlockAccount(account_9, 'olirocks2018')\n",
    "web3.personal.unlockAccount(account_10, 'olirocks2018')\n",
    "web3.personal.unlockAccount(account_11, 'olirocks2018')\n",
    "web3.personal.unlockAccount(account_12, 'olirocks2018')\n",
    "web3.personal.unlockAccount(account_13, 'olirocks2018')\n",
    "web3.personal.unlockAccount(account_14, 'olirocks2018')\n",
    "web3.personal.unlockAccount(account_15, 'olirocks2018')\n",
    "web3.personal.unlockAccount(account_16, 'olirocks2018')\n",
    "web3.personal.unlockAccount(account_17, 'olirocks2018')\n",
    "web3.personal.unlockAccount(account_18, 'olirocks2018')\n",
    "web3.personal.unlockAccount(account_19, 'olirocks2018')\n",
    "\n",
    "\n",
    "Consumption_contract.transact({'from': coinbase}).setConsumer('Ritta', 'PV', 445, 556, int(48.12e4), int(9.16e4), 457, 'Urban', '20-04-2018')\n",
    "Consumption_contract.transact({'from': account_1}).setConsumer('Lea', 'Battery', 545, 456, int(48.23e4), int(9.27e4), 257, 'Rural', '21-04-2018')\n",
    "Consumption_contract.transact({'from': account_2}).setConsumer('Maria', 'Standard Meter', 678, 754, int(48.34e4), int(9.38e4), 357, 'Urban', '22-04-2018')\n",
    "Consumption_contract.transact({'from': account_3}).setConsumer('Alena', 'Controller Load', 745, 443, int(48.45e4), int(9.49e4), 557, 'Rural', '23-04-2018')\n",
    "Consumption_contract.transact({'from': account_4}).setConsumer('Birgit', 'Battery', 345, 455, int(48.55e4), int(9.65e4), 657, 'Urban', '24-04-2018')\n",
    "\n",
    "Consumption_contract.transact({'from': account_5}).setConsumer('Suzi', 'Standard Meter', 845, 393, int(48.67e4), int(9.66e4), 757, 'Rural', '25-04-2018')\n",
    "Consumption_contract.transact({'from': account_6}).setConsumer('Judith', 'PV', 245, 378, int(48.78e4), int(9.37e4), 857, 'Urban', '26-04-2018')\n",
    "Consumption_contract.transact({'from': account_7}).setConsumer('Monika', 'Controller Load', 425, 383, int(48.88e4), int(9.75e4), 957, 'Rural', '27-04-2018')\n",
    "Consumption_contract.transact({'from': account_8}).setConsumer('Yuana', 'Standard Meter', 365, 556, int(48.99e4), int(9.85e4), 157, 'Urban', '28-04-2018')\n",
    "Consumption_contract.transact({'from': account_9}).setConsumer('Julia', 'Battery', 755, 862, int(48.50e4), int(9.91e4), 357, 'Rural', '29-04-2018')\n",
    "\n",
    "Consumption_contract.transact({'from': account_10}).setConsumer('Sonia', 'Controller Load', 345, 656, int(48.63e4), int(9.31e4), 317, 'Urban', '19-04-2018')\n",
    "Consumption_contract.transact({'from': account_11}).setConsumer('Tom', 'PV', 635, 743, int(48.74e4), int(9.34e4), 327, 'Rural', '18-04-2018')\n",
    "Consumption_contract.transact({'from': account_12}).setConsumer('olirocks2018', 'Standard Meter', 475, 643, int(48.65e4), int(9.33e4), 637, 'Urabn', '17-04-2018')\n",
    "Consumption_contract.transact({'from': account_13}).setConsumer('Andre', 'Battery', 555, 161, int(48.96e4), int(9.44e4), 347, 'Rural', '16-04-2018')\n",
    "Consumption_contract.transact({'from': account_14}).setConsumer('Jim', 'PV', 665, 332, int(48.47e4), int(9.55e4), 557, 'Urabn', '15-04-2018')\n",
    "\n",
    "Consumption_contract.transact({'from': account_15}).setConsumer('Tom', 'Battery', 775, 512, int(48.58e4), int(9.66e4), 757, 'Rural', '14-04-2018')\n",
    "Consumption_contract.transact({'from': account_16}).setConsumer('Markus', 'Controller Load', 225, 264, int(48.89e4), int(9.37e4), 857, 'Urabn', '13-04-2018')\n",
    "Consumption_contract.transact({'from': account_17}).setConsumer('Tom', 'Standard Meter', 425, 132, int(48.35e4), int(9.38e4), 957, 'Rural', '12-04-2018')\n",
    "Consumption_contract.transact({'from': account_18}).setConsumer('Juiliano', 'PV', 725, 992, int(48.44e4), int(9.49e4), 627, 'Urabn', '11-04-2018')\n",
    "Consumption_contract.transact({'from': account_19}).setConsumer('olirocks2018', 'Battery', 645, 416, int(48.43e4), int(9.55e4), 377, 'Rural', '10-04-2018')"
   ]
  },
  {
   "cell_type": "code",
   "execution_count": null,
   "metadata": {},
   "outputs": [],
   "source": [
    "# energy production\n",
    "run = 1\n",
    "while run == 1:\n",
    "    \n",
    "    web3.personal.unlockAccount(coinbase, 'olirocks2018')\n",
    "    web3.personal.unlockAccount(coinbase, 'olirocks2018')\n",
    "    web3.personal.unlockAccount(account_1, 'olirocks2018')\n",
    "    web3.personal.unlockAccount(account_1, 'olirocks2018')\n",
    "    web3.personal.unlockAccount(account_2, 'olirocks2018')\n",
    "    web3.personal.unlockAccount(account_2, 'olirocks2018')\n",
    "    web3.personal.unlockAccount(account_3, 'olirocks2018')\n",
    "    web3.personal.unlockAccount(account_3, 'olirocks2018')\n",
    "    web3.personal.unlockAccount(account_4, 'olirocks2018')\n",
    "    web3.personal.unlockAccount(account_4, 'olirocks2018')\n",
    "\n",
    "    web3.personal.unlockAccount(account_5, 'olirocks2018')\n",
    "    web3.personal.unlockAccount(account_5, 'olirocks2018')\n",
    "    \n",
    "    web3.personal.unlockAccount(account_6, 'olirocks2018')\n",
    "    web3.personal.unlockAccount(account_6, 'olirocks2018')\n",
    "    \n",
    "    web3.personal.unlockAccount(account_7, 'olirocks2018')\n",
    "    web3.personal.unlockAccount(account_7, 'olirocks2018')\n",
    "    \n",
    "    web3.personal.unlockAccount(account_8, 'olirocks2018')\n",
    "    web3.personal.unlockAccount(account_8, 'olirocks2018')\n",
    "\n",
    "    web3.personal.unlockAccount(account_9, 'olirocks2018')\n",
    "    web3.personal.unlockAccount(account_9, 'olirocks2018')\n",
    "    \n",
    "    web3.personal.unlockAccount(account_10, 'olirocks2018')\n",
    "    web3.personal.unlockAccount(account_10, 'olirocks2018')\n",
    "   \n",
    "    web3.personal.unlockAccount(account_11, 'olirocks2018')\n",
    "    web3.personal.unlockAccount(account_11, 'olirocks2018')\n",
    "    \n",
    "    web3.personal.unlockAccount(account_12, 'olirocks2018')\n",
    "    web3.personal.unlockAccount(account_12, 'olirocks2018')\n",
    "    \n",
    "    web3.personal.unlockAccount(account_13, 'olirocks2018')\n",
    "    web3.personal.unlockAccount(account_13, 'olirocks2018')\n",
    "   \n",
    "    web3.personal.unlockAccount(account_14, 'olirocks2018')\n",
    "    web3.personal.unlockAccount(account_14, 'olirocks2018')\n",
    "    \n",
    "    web3.personal.unlockAccount(account_15, 'olirocks2018')\n",
    "    web3.personal.unlockAccount(account_15, 'olirocks2018')\n",
    "    \n",
    "    web3.personal.unlockAccount(account_16, 'olirocks2018')\n",
    "    web3.personal.unlockAccount(account_16, 'olirocks2018')\n",
    "    \n",
    "    web3.personal.unlockAccount(account_17, 'olirocks2018')\n",
    "    web3.personal.unlockAccount(account_17, 'olirocks2018')\n",
    "    \n",
    "    web3.personal.unlockAccount(account_18, 'olirocks2018')\n",
    "    web3.personal.unlockAccount(account_18, 'olirocks2018')\n",
    "    web3.personal.unlockAccount(account_19, 'olirocks2018')\n",
    "    web3.personal.unlockAccount(account_19, 'olirocks2018')\n",
    "    \n",
    "    # energy consumtion\n",
    "\n",
    "    Production_contract.transact({'from': coinbase}).setEnerProduction(102)\n",
    "    Consumption_contract.transact({'from': coinbase}).setEnerConsumption(202)\n",
    "    \n",
    "    Production_contract.transact({'from': account_1}).setEnerProduction(254)\n",
    "    Consumption_contract.transact({'from': account_1}).setEnerConsumption(354)\n",
    "    \n",
    "    Production_contract.transact({'from': account_2}).setEnerProduction(278)\n",
    "    Consumption_contract.transact({'from': account_2}).setEnerConsumption(178)\n",
    "    \n",
    "    Production_contract.transact({'from': account_3}).setEnerProduction(354)\n",
    "    Consumption_contract.transact({'from': account_3}).setEnerConsumption(264)\n",
    "    Production_contract.transact({'from': account_4}).setEnerProduction(143)\n",
    "    \n",
    "    Consumption_contract.transact({'from': account_4}).setEnerConsumption(243)\n",
    "    \n",
    "    Production_contract.transact({'from': account_5}).setEnerProduction(6287)\n",
    "    Consumption_contract.transact({'from': account_5}).setEnerConsumption(187)\n",
    "    Production_contract.transact({'from': account_6}).setEnerProduction(277)\n",
    "    \n",
    "    Consumption_contract.transact({'from': account_6}).setEnerConsumption(177)\n",
    "    Production_contract.transact({'from': account_7}).setEnerProduction(336)\n",
    "    \n",
    "    Consumption_contract.transact({'from': account_7}).setEnerConsumption(236)\n",
    "    \n",
    "    Production_contract.transact({'from': account_8}).setEnerProduction(245)\n",
    "    Consumption_contract.transact({'from': account_8}).setEnerConsumption(345)\n",
    "    Consumption_contract.transact({'from': account_9}).setEnerConsumption(284)\n",
    "    Production_contract.transact({'from': account_9}).setEnerProduction(354)\n",
    "\n",
    "    Production_contract.transact({'from': account_10}).setEnerProduction(224)\n",
    "    Consumption_contract.transact({'from': account_10}).setEnerConsumption(324)\n",
    "    Production_contract.transact({'from': account_11}).setEnerProduction(254)\n",
    "    \n",
    "    Consumption_contract.transact({'from': account_11}).setEnerConsumption(274)\n",
    "    Production_contract.transact({'from': account_12}).setEnerProduction(186)\n",
    "    \n",
    "    Consumption_contract.transact({'from': account_12}).setEnerConsumption(286)\n",
    "    Production_contract.transact({'from': account_13}).setEnerProduction(335)\n",
    "    \n",
    "    Consumption_contract.transact({'from': account_13}).setEnerConsumption(235)\n",
    "    Consumption_contract.transact({'from': account_14}).setEnerConsumption(225)\n",
    "    Production_contract.transact({'from': account_14}).setEnerProduction(245)\n",
    "\n",
    "    Production_contract.transact({'from': account_15}).setEnerProduction(338)\n",
    "    Consumption_contract.transact({'from': account_15}).setEnerConsumption(238)\n",
    "    Production_contract.transact({'from': account_16}).setEnerProduction(254)\n",
    "    \n",
    "    Consumption_contract.transact({'from': account_16}).setEnerConsumption(184)\n",
    "    Production_contract.transact({'from': account_17}).setEnerProduction(174)\n",
    "    \n",
    "    Consumption_contract.transact({'from': account_17}).setEnerConsumption(199)\n",
    "    Production_contract.transact({'from': account_18}).setEnerProduction(254)\n",
    "\n",
    "    Consumption_contract.transact({'from': account_18}).setEnerConsumption(314)\n",
    "    Consumption_contract.transact({'from': account_19}).setEnerConsumption(249)\n",
    "    Production_contract.transact({'from': account_19}).setEnerProduction(342)\n",
    "    \n",
    "    time.sleep(30)"
   ]
  },
  {
   "cell_type": "code",
   "execution_count": null,
   "metadata": {},
   "outputs": [],
   "source": [
    "for i in range(1,5000):\n",
    "    web3.personal.unlockAccount(web3.eth.coinbase, 'olirocks')\n",
    "    time.sleep(1)"
   ]
  },
  {
   "cell_type": "code",
   "execution_count": null,
   "metadata": {},
   "outputs": [],
   "source": [
    "web3.personal.unlockAccount(web3.eth.coinbase, 'olirocks')"
   ]
  },
  {
   "cell_type": "code",
   "execution_count": null,
   "metadata": {},
   "outputs": [],
   "source": [
    "web3.fromWei(web3.eth.getBalance(web3.eth.accounts[0]), 'ether')"
   ]
  },
  {
   "cell_type": "code",
   "execution_count": null,
   "metadata": {},
   "outputs": [],
   "source": [
    "web3.fromWei(web3.eth.getBalance(web3.eth.accounts[2]), 'ether')"
   ]
  },
  {
   "cell_type": "code",
   "execution_count": null,
   "metadata": {},
   "outputs": [],
   "source": [
    "web3.fromWei(web3.eth.getBalance(web3.eth.coinbase), 'ether')"
   ]
  },
  {
   "cell_type": "code",
   "execution_count": null,
   "metadata": {},
   "outputs": [],
   "source": [
    "web3.personal.unlockAccount(web3.eth.accounts[2], 'olirocks')\n",
    "web3.eth.sendTransaction({'to': web3.eth.accounts[0], 'from': web3.eth.accounts[2], 'value': 461238800000000000})"
   ]
  },
  {
   "cell_type": "code",
   "execution_count": null,
   "metadata": {},
   "outputs": [],
   "source": [
    "#distribute eth from coinbase to the other accounts\n",
    "web3.personal.unlockAccount(web3.eth.accounts[2], 'olirocks')\n",
    "transferAmount = round((web3.eth.getBalance(web3.eth.accounts[2]) * 0.02))\n",
    "\n",
    "web3.personal.unlockAccount(web3.eth.accounts[2], 'olirocks')\n",
    "web3.eth.sendTransaction({'to': web3.eth.accounts[0], 'from': web3.eth.accounts[2], 'value': transferAmount})"
   ]
  },
  {
   "cell_type": "code",
   "execution_count": null,
   "metadata": {},
   "outputs": [],
   "source": [
    "web3.eth.coinbase"
   ]
  },
  {
   "cell_type": "code",
   "execution_count": null,
   "metadata": {},
   "outputs": [],
   "source": []
  }
 ],
 "metadata": {
  "kernelspec": {
   "display_name": "Python 3",
   "language": "python",
   "name": "python3"
  },
  "language_info": {
   "codemirror_mode": {
    "name": "ipython",
    "version": 3
   },
   "file_extension": ".py",
   "mimetype": "text/x-python",
   "name": "python",
   "nbconvert_exporter": "python",
   "pygments_lexer": "ipython3",
   "version": "3.6.4"
  }
 },
 "nbformat": 4,
 "nbformat_minor": 2
}
